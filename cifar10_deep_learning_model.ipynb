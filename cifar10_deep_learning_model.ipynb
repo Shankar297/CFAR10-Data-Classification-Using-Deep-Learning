{
 "cells": [
  {
   "cell_type": "code",
   "execution_count": 7,
   "metadata": {
    "id": "baxlxWM5tz4J"
   },
   "outputs": [],
   "source": [
    "# import all important libraries\n",
    "import numpy as np\n",
    "import pandas as pd\n",
    "import matplotlib.pyplot as plt\n",
    "\n",
    "import tensorflow as tf\n",
    "from tensorflow.keras.datasets import cifar10\n",
    "from tensorflow.keras.models import Sequential\n",
    "from tensorflow.keras.layers import Dense, Dropout,MaxPool2D,Conv2D,Flatten"
   ]
  },
  {
   "cell_type": "code",
   "execution_count": 2,
   "metadata": {
    "colab": {
     "base_uri": "https://localhost:8080/"
    },
    "id": "wt_xZ9K0we1z",
    "outputId": "69fccbfe-927e-49e3-8763-35d2b4fb8c9a"
   },
   "outputs": [
    {
     "name": "stdout",
     "output_type": "stream",
     "text": [
      "Downloading data from https://www.cs.toronto.edu/~kriz/cifar-10-python.tar.gz\n",
      "170500096/170498071 [==============================] - 4s 0us/step\n"
     ]
    }
   ],
   "source": [
    "# loading the dataset\n",
    "(x_train, y_train), (x_test, y_test) = cifar10.load_data(,)"
   ]
  },
  {
   "cell_type": "code",
   "execution_count": 4,
   "metadata": {
    "colab": {
     "base_uri": "https://localhost:8080/"
    },
    "id": "4h3YgNgCw4el",
    "outputId": "7739656a-72fd-4d8c-ffa3-3aaacc3102f1"
   },
   "outputs": [
    {
     "name": "stdout",
     "output_type": "stream",
     "text": [
      "(50000, 32, 32, 3)\n",
      "(10000, 32, 32, 3)\n"
     ]
    }
   ],
   "source": [
    "# number of image, height width, channel\n",
    "print(x_train.shape)\n",
    "print(x_test.shape)"
   ]
  },
  {
   "cell_type": "code",
   "execution_count": 5,
   "metadata": {
    "id": "d4N5WsHhxNQB"
   },
   "outputs": [],
   "source": [
    "# name all the classes\n",
    "classes = ['airplane','automobile','bird','cat','deer','dog','frog','horse','ship','truck']"
   ]
  },
  {
   "cell_type": "code",
   "execution_count": 26,
   "metadata": {
    "colab": {
     "base_uri": "https://localhost:8080/",
     "height": 284
    },
    "id": "szhPDMY40RMm",
    "outputId": "3c4c6924-c86c-4efd-a71d-df5c28b6f584"
   },
   "outputs": [
    {
     "data": {
      "application/vnd.google.colaboratory.intrinsic+json": {
       "type": "string"
      },
      "text/plain": [
       "'ship'"
      ]
     },
     "execution_count": 26,
     "metadata": {
      "tags": []
     },
     "output_type": "execute_result"
    },
    {
     "data": {
      "image/png": "[encoded data removed]",
      "text/plain": [
       "<Figure size 432x288 with 1 Axes>"
      ]
     },
     "metadata": {
      "needs_background": "light",
      "tags": []
     },
     "output_type": "display_data"
    }
   ],
   "source": [
    "# visualizing the data\n",
    "class_number = 100\n",
    "plt.imshow(x_train[class_number])\n",
    "classes[y_train[class_number][0]]"
   ]
  },
  {
   "cell_type": "code",
   "execution_count": 27,
   "metadata": {
    "id": "fV4dKH_01s_X"
   },
   "outputs": [],
   "source": [
    "# normalizing the code\n",
    "x_train,x_test = x_train/255.0,x_test/255.0"
   ]
  },
  {
   "cell_type": "code",
   "execution_count": 28,
   "metadata": {
    "id": "4aqfUnRE14hb"
   },
   "outputs": [],
   "source": [
    "# model \n",
    "# 1. model building\n",
    "# 2. complile\n",
    "# 3. fit"
   ]
  },
  {
   "cell_type": "code",
   "execution_count": 31,
   "metadata": {
    "id": "uZ8eftjj2Q46"
   },
   "outputs": [],
   "source": [
    "# model building\n",
    "model = Sequential()\n",
    "\n",
    "# conv layer 1\n",
    "model.add(Conv2D(36,(3,3),activation='relu',kernel_initializer='he_uniform'))\n",
    "model.add(MaxPool2D())\n",
    "\n",
    "# conv layer 2\n",
    "model.add(Conv2D(72,(3,3),activation='relu',kernel_initializer='he_uniform'))\n",
    "model.add(MaxPool2D())\n",
    "\n",
    "# conv layer 3\n",
    "model.add(Conv2D(144,(3,3),activation='relu',kernel_initializer='he_uniform'))\n",
    "model.add(MaxPool2D())\n",
    "\n",
    "model.add(Flatten())\n",
    "\n",
    "# hidden layer 1\n",
    "model.add(Dense(units=128,activation='relu',kernel_initializer='he_uniform'))\n",
    "model.add(Dropout(0.2))\n",
    "\n",
    "# hidden layer 2\n",
    "model.add(Dense(units=100,activation='sigmoid',kernel_initializer='glorot_uniform'))\n",
    "model.add(Dropout(0.2))\n",
    "\n",
    "# hidden layer 3\n",
    "model.add(Dense(units=68,activation='relu',kernel_initializer='he_uniform'))\n",
    "model.add(Dropout(0.2))\n",
    "\n",
    "# hidden layer 1\n",
    "model.add(Dense(units=10,activation='softmax',kernel_initializer='he_uniform'))"
   ]
  },
  {
   "cell_type": "code",
   "execution_count": 35,
   "metadata": {
    "id": "u-uhWyCq40fz"
   },
   "outputs": [],
   "source": [
    "model.compile(optimizer='rmsprop',loss='sparse_categorical_crossentropy', metrics=['accuracy'])"
   ]
  },
  {
   "cell_type": "code",
   "execution_count": null,
   "metadata": {
    "colab": {
     "base_uri": "https://localhost:8080/"
    },
    "id": "-MYz1RK_547-",
    "outputId": "3096520a-59f9-4e4c-95af-50d01f0d21d3"
   },
   "outputs": [
    {
     "name": "stdout",
     "output_type": "stream",
     "text": [
      "Epoch 1/50\n",
      "1250/1250 [==============================] - 70s 56ms/step - loss: 1.5721 - accuracy: 0.4274 - val_loss: 1.3125 - val_accuracy: 0.5191\n",
      "Epoch 2/50\n",
      "1250/1250 [==============================] - 69s 55ms/step - loss: 1.2895 - accuracy: 0.5455 - val_loss: 1.1064 - val_accuracy: 0.6117\n",
      "Epoch 3/50\n",
      "1250/1250 [==============================] - 69s 55ms/step - loss: 1.1175 - accuracy: 0.6136 - val_loss: 1.0539 - val_accuracy: 0.6300\n",
      "Epoch 4/50\n",
      "1250/1250 [==============================] - 69s 55ms/step - loss: 1.0100 - accuracy: 0.6572 - val_loss: 0.9916 - val_accuracy: 0.6566\n",
      "Epoch 5/50\n",
      "1250/1250 [==============================] - 69s 56ms/step - loss: 0.9240 - accuracy: 0.6887 - val_loss: 0.9355 - val_accuracy: 0.6830\n",
      "Epoch 6/50\n",
      "1250/1250 [==============================] - 69s 55ms/step - loss: 0.8594 - accuracy: 0.7114 - val_loss: 0.9255 - val_accuracy: 0.7012\n",
      "Epoch 7/50\n",
      "1250/1250 [==============================] - 70s 56ms/step - loss: 0.8153 - accuracy: 0.7299 - val_loss: 0.8758 - val_accuracy: 0.7045\n",
      "Epoch 8/50\n",
      "1250/1250 [==============================] - 69s 55ms/step - loss: 0.7895 - accuracy: 0.7427 - val_loss: 0.9393 - val_accuracy: 0.6939\n",
      "Epoch 9/50\n",
      "1250/1250 [==============================] - 69s 55ms/step - loss: 0.7669 - accuracy: 0.7512 - val_loss: 0.9663 - val_accuracy: 0.7007\n",
      "Epoch 10/50\n",
      "1250/1250 [==============================] - 69s 55ms/step - loss: 0.7461 - accuracy: 0.7602 - val_loss: 0.9549 - val_accuracy: 0.6935\n",
      "Epoch 11/50\n",
      "1250/1250 [==============================] - 70s 56ms/step - loss: 0.7360 - accuracy: 0.7646 - val_loss: 0.9741 - val_accuracy: 0.6897\n",
      "Epoch 12/50\n",
      "1250/1250 [==============================] - 70s 56ms/step - loss: 0.7424 - accuracy: 0.7645 - val_loss: 0.9643 - val_accuracy: 0.7059\n",
      "Epoch 13/50\n",
      "1250/1250 [==============================] - 70s 56ms/step - loss: 0.7445 - accuracy: 0.7632 - val_loss: 0.9468 - val_accuracy: 0.7066\n",
      "Epoch 14/50\n",
      "1250/1250 [==============================] - 69s 55ms/step - loss: 0.7672 - accuracy: 0.7613 - val_loss: 1.1098 - val_accuracy: 0.7032\n",
      "Epoch 15/50\n",
      "1250/1250 [==============================] - 70s 56ms/step - loss: 0.7663 - accuracy: 0.7625 - val_loss: 1.1976 - val_accuracy: 0.6668\n",
      "Epoch 16/50\n",
      "1250/1250 [==============================] - 70s 56ms/step - loss: 0.7778 - accuracy: 0.7588 - val_loss: 1.0577 - val_accuracy: 0.7020\n",
      "Epoch 17/50\n",
      "1250/1250 [==============================] - 69s 56ms/step - loss: 0.7980 - accuracy: 0.7541 - val_loss: 1.0163 - val_accuracy: 0.6828\n",
      "Epoch 18/50\n",
      "1250/1250 [==============================] - 70s 56ms/step - loss: 0.8170 - accuracy: 0.7523 - val_loss: 0.9426 - val_accuracy: 0.7041\n",
      "Epoch 19/50\n",
      "1250/1250 [==============================] - 69s 56ms/step - loss: 0.8058 - accuracy: 0.7508 - val_loss: 1.1218 - val_accuracy: 0.6884\n",
      "Epoch 20/50\n",
      " 882/1250 [====================>.........] - ETA: 19s - loss: 0.8040 - accuracy: 0.7528"
     ]
    }
   ],
   "source": [
    "model.fit(x_train,y_train,batch_size=32,epochs=50,validation_split=0.2)"
   ]
  }
 ],
 "metadata": {
  "accelerator": "GPU",
  "colab": {
   "name": "cifar10_deep_learning_model.ipynb",
   "provenance": []
  },
  "kernelspec": {
   "display_name": "Python 3",
   "language": "python",
   "name": "python3"
  },
  "language_info": {
   "codemirror_mode": {
    "name": "ipython",
    "version": 3
   },
   "file_extension": ".py",
   "mimetype": "text/x-python",
   "name": "python",
   "nbconvert_exporter": "python",
   "pygments_lexer": "ipython3",
   "version": "3.7.3"
  }
 },
 "nbformat": 4,
 "nbformat_minor": 1
}
